{
 "cells": [
  {
   "cell_type": "code",
   "execution_count": 2,
   "metadata": {},
   "outputs": [
    {
     "data": {
      "text/plain": [
       "603"
      ]
     },
     "execution_count": 2,
     "metadata": {},
     "output_type": "execute_result"
    }
   ],
   "source": [
    "import pandas as pd\n",
    "import glob\n",
    "from datetime import datetime\n",
    "\n",
    "files = glob.glob('temp/*.csv')\n",
    "len(files)"
   ]
  },
  {
   "cell_type": "code",
   "execution_count": 5,
   "metadata": {},
   "outputs": [
    {
     "data": {
      "text/plain": [
       "'2024_10_14'"
      ]
     },
     "execution_count": 5,
     "metadata": {},
     "output_type": "execute_result"
    }
   ],
   "source": [
    "TODAY = datetime.today().strftime('%Y_%m_%d')\n",
    "TODAY"
   ]
  },
  {
   "cell_type": "code",
   "execution_count": 9,
   "metadata": {},
   "outputs": [
    {
     "data": {
      "text/html": [
       "<div>\n",
       "<style scoped>\n",
       "    .dataframe tbody tr th:only-of-type {\n",
       "        vertical-align: middle;\n",
       "    }\n",
       "\n",
       "    .dataframe tbody tr th {\n",
       "        vertical-align: top;\n",
       "    }\n",
       "\n",
       "    .dataframe thead th {\n",
       "        text-align: right;\n",
       "    }\n",
       "</style>\n",
       "<table border=\"1\" class=\"dataframe\">\n",
       "  <thead>\n",
       "    <tr style=\"text-align: right;\">\n",
       "      <th></th>\n",
       "      <th>Account</th>\n",
       "      <th>Name</th>\n",
       "      <th>Mailing Address</th>\n",
       "      <th>Land Valuation</th>\n",
       "      <th>Improvement Valuation</th>\n",
       "      <th>Market Valuation</th>\n",
       "      <th>Appraised Valuation</th>\n",
       "      <th>Legal Description</th>\n",
       "      <th>Land</th>\n",
       "      <th>Building Area</th>\n",
       "      <th>State Class Code</th>\n",
       "      <th>Year Built</th>\n",
       "      <th>Type</th>\n",
       "      <th>Impr Sq Ft</th>\n",
       "      <th>Account Number</th>\n",
       "      <th>Search Keyword</th>\n",
       "      <th>Realnex Key</th>\n",
       "    </tr>\n",
       "  </thead>\n",
       "  <tbody>\n",
       "    <tr>\n",
       "      <th>0</th>\n",
       "      <td>Name: TGL CENTER LTD</td>\n",
       "      <td>Mailing Address: 12323 PINEY BEND DR  TOMBALL,...</td>\n",
       "      <td>NaN</td>\n",
       "      <td>$1,400,895</td>\n",
       "      <td>$1,139,659</td>\n",
       "      <td>$2,540,554</td>\n",
       "      <td>$2,540,554</td>\n",
       "      <td>TR 8C-1A ABST 375 J M HOOPER</td>\n",
       "      <td>93,393 SF</td>\n",
       "      <td>17,950 SF</td>\n",
       "      <td>F1 -- Real, Commercial</td>\n",
       "      <td>1997.0</td>\n",
       "      <td>Strip Shopping Center</td>\n",
       "      <td>4,000</td>\n",
       "      <td>430410000230</td>\n",
       "      <td>28155  SH 249</td>\n",
       "      <td>FC7956A6-8D39-45BC-B8F5-48A8CD793E04</td>\n",
       "    </tr>\n",
       "    <tr>\n",
       "      <th>1</th>\n",
       "      <td>Name: LEARDI LAWRENCE</td>\n",
       "      <td>Mailing Address: 16334 BRINKWOOD DR  HOUSTON, ...</td>\n",
       "      <td>NaN</td>\n",
       "      <td>$40,327</td>\n",
       "      <td>$225,055</td>\n",
       "      <td>$265,382</td>\n",
       "      <td>$265,382</td>\n",
       "      <td>LT 21 BLK 9 NORTH FOREST SEC 2</td>\n",
       "      <td>6,710 SF</td>\n",
       "      <td>NaN</td>\n",
       "      <td>A1 -- Real, Residential, Single-Family</td>\n",
       "      <td>1971.0</td>\n",
       "      <td>2018</td>\n",
       "      <td>Average</td>\n",
       "      <td>1015500000021</td>\n",
       "      <td>16334  Brinkwood Dr</td>\n",
       "      <td>C73EED36-8BD7-47B3-93FC-4C4070212C28</td>\n",
       "    </tr>\n",
       "  </tbody>\n",
       "</table>\n",
       "</div>"
      ],
      "text/plain": [
       "                 Account                                               Name  \\\n",
       "0   Name: TGL CENTER LTD  Mailing Address: 12323 PINEY BEND DR  TOMBALL,...   \n",
       "1  Name: LEARDI LAWRENCE  Mailing Address: 16334 BRINKWOOD DR  HOUSTON, ...   \n",
       "\n",
       "   Mailing Address Land Valuation Improvement Valuation Market Valuation  \\\n",
       "0              NaN     $1,400,895            $1,139,659       $2,540,554   \n",
       "1              NaN        $40,327              $225,055         $265,382   \n",
       "\n",
       "  Appraised Valuation               Legal Description       Land  \\\n",
       "0          $2,540,554    TR 8C-1A ABST 375 J M HOOPER  93,393 SF   \n",
       "1            $265,382  LT 21 BLK 9 NORTH FOREST SEC 2   6,710 SF   \n",
       "\n",
       "  Building Area                        State Class Code  Year Built  \\\n",
       "0     17,950 SF                  F1 -- Real, Commercial      1997.0   \n",
       "1           NaN  A1 -- Real, Residential, Single-Family      1971.0   \n",
       "\n",
       "                    Type Impr Sq Ft  Account Number       Search Keyword  \\\n",
       "0  Strip Shopping Center      4,000    430410000230        28155  SH 249   \n",
       "1                   2018    Average   1015500000021  16334  Brinkwood Dr   \n",
       "\n",
       "                            Realnex Key  \n",
       "0  FC7956A6-8D39-45BC-B8F5-48A8CD793E04  \n",
       "1  C73EED36-8BD7-47B3-93FC-4C4070212C28  "
      ]
     },
     "execution_count": 9,
     "metadata": {},
     "output_type": "execute_result"
    }
   ],
   "source": [
    "df = pd.concat([pd.read_csv(file) for file in files], ignore_index=True)\n",
    "df.to_csv(f\"Realnex Export/Realnex Data Enrichment_{TODAY}.csv\", index=False)\n",
    "df.head(2)"
   ]
  },
  {
   "cell_type": "code",
   "execution_count": null,
   "metadata": {},
   "outputs": [],
   "source": []
  }
 ],
 "metadata": {
  "kernelspec": {
   "display_name": ".venv",
   "language": "python",
   "name": "python3"
  },
  "language_info": {
   "codemirror_mode": {
    "name": "ipython",
    "version": 3
   },
   "file_extension": ".py",
   "mimetype": "text/x-python",
   "name": "python",
   "nbconvert_exporter": "python",
   "pygments_lexer": "ipython3",
   "version": "3.12.3"
  }
 },
 "nbformat": 4,
 "nbformat_minor": 2
}
